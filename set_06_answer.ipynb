{
 "cells": [
  {
   "cell_type": "code",
   "execution_count": 3,
   "id": "ade3995b",
   "metadata": {},
   "outputs": [],
   "source": [
    "import pandas as pd\n",
    "import numpy as np\n",
    "\n",
    "from sklearn.linear_model import LogisticRegression\n",
    "from sklearn.neighbors import KNeighborsClassifier"
   ]
  },
  {
   "cell_type": "code",
   "execution_count": 4,
   "id": "331211e4",
   "metadata": {},
   "outputs": [
    {
     "data": {
      "text/html": [
       "<div>\n",
       "<style scoped>\n",
       "    .dataframe tbody tr th:only-of-type {\n",
       "        vertical-align: middle;\n",
       "    }\n",
       "\n",
       "    .dataframe tbody tr th {\n",
       "        vertical-align: top;\n",
       "    }\n",
       "\n",
       "    .dataframe thead th {\n",
       "        text-align: right;\n",
       "    }\n",
       "</style>\n",
       "<table border=\"1\" class=\"dataframe\">\n",
       "  <thead>\n",
       "    <tr style=\"text-align: right;\">\n",
       "      <th></th>\n",
       "      <th>enrollee_id</th>\n",
       "      <th>city</th>\n",
       "      <th>city_development_index</th>\n",
       "      <th>gender</th>\n",
       "      <th>relevant_experience</th>\n",
       "      <th>enrolled_university</th>\n",
       "      <th>education_level</th>\n",
       "      <th>major_discipline</th>\n",
       "      <th>experience</th>\n",
       "      <th>company_size</th>\n",
       "      <th>company_type</th>\n",
       "      <th>last_new_job</th>\n",
       "      <th>training_hours</th>\n",
       "      <th>target</th>\n",
       "      <th>Xgrp</th>\n",
       "    </tr>\n",
       "  </thead>\n",
       "  <tbody>\n",
       "    <tr>\n",
       "      <th>0</th>\n",
       "      <td>8949.0</td>\n",
       "      <td>city_103</td>\n",
       "      <td>0.920</td>\n",
       "      <td>Male</td>\n",
       "      <td>Has relevant experience</td>\n",
       "      <td>no_enrollment</td>\n",
       "      <td>Graduate</td>\n",
       "      <td>STEM</td>\n",
       "      <td>&gt;20</td>\n",
       "      <td>NaN</td>\n",
       "      <td>NaN</td>\n",
       "      <td>1</td>\n",
       "      <td>36.0</td>\n",
       "      <td>1.0</td>\n",
       "      <td>train</td>\n",
       "    </tr>\n",
       "    <tr>\n",
       "      <th>1</th>\n",
       "      <td>29725.0</td>\n",
       "      <td>city_40</td>\n",
       "      <td>0.776</td>\n",
       "      <td>Male</td>\n",
       "      <td>No relevant experience</td>\n",
       "      <td>no_enrollment</td>\n",
       "      <td>Graduate</td>\n",
       "      <td>STEM</td>\n",
       "      <td>15</td>\n",
       "      <td>50-99</td>\n",
       "      <td>Pvt Ltd</td>\n",
       "      <td>&gt;4</td>\n",
       "      <td>47.0</td>\n",
       "      <td>0.0</td>\n",
       "      <td>train</td>\n",
       "    </tr>\n",
       "  </tbody>\n",
       "</table>\n",
       "</div>"
      ],
      "text/plain": [
       "   enrollee_id      city  city_development_index gender  \\\n",
       "0       8949.0  city_103                   0.920   Male   \n",
       "1      29725.0   city_40                   0.776   Male   \n",
       "\n",
       "       relevant_experience enrolled_university education_level  \\\n",
       "0  Has relevant experience       no_enrollment        Graduate   \n",
       "1   No relevant experience       no_enrollment        Graduate   \n",
       "\n",
       "  major_discipline experience company_size company_type last_new_job  \\\n",
       "0             STEM        >20          NaN          NaN            1   \n",
       "1             STEM         15        50-99      Pvt Ltd           >4   \n",
       "\n",
       "   training_hours  target   Xgrp  \n",
       "0            36.0     1.0  train  \n",
       "1            47.0     0.0  train  "
      ]
     },
     "execution_count": 4,
     "metadata": {},
     "output_type": "execute_result"
    }
   ],
   "source": [
    "df = pd.read_csv(\"edu_enrollees.csv\")\n",
    "df.head(2)"
   ]
  },
  {
   "cell_type": "markdown",
   "id": "9e938a15",
   "metadata": {},
   "source": [
    "### 전처리"
   ]
  },
  {
   "cell_type": "code",
   "execution_count": 5,
   "id": "788127b7",
   "metadata": {
    "collapsed": true
   },
   "outputs": [
    {
     "data": {
      "text/html": [
       "<div>\n",
       "<style scoped>\n",
       "    .dataframe tbody tr th:only-of-type {\n",
       "        vertical-align: middle;\n",
       "    }\n",
       "\n",
       "    .dataframe tbody tr th {\n",
       "        vertical-align: top;\n",
       "    }\n",
       "\n",
       "    .dataframe thead th {\n",
       "        text-align: right;\n",
       "    }\n",
       "</style>\n",
       "<table border=\"1\" class=\"dataframe\">\n",
       "  <thead>\n",
       "    <tr style=\"text-align: right;\">\n",
       "      <th></th>\n",
       "      <th>enrollee_id</th>\n",
       "      <th>city_development_index</th>\n",
       "      <th>gender</th>\n",
       "      <th>relevant_experience</th>\n",
       "      <th>enrolled_university</th>\n",
       "      <th>education_level</th>\n",
       "      <th>major_discipline</th>\n",
       "      <th>experience</th>\n",
       "      <th>last_new_job</th>\n",
       "      <th>training_hours</th>\n",
       "      <th>target</th>\n",
       "      <th>Xgrp</th>\n",
       "    </tr>\n",
       "  </thead>\n",
       "  <tbody>\n",
       "    <tr>\n",
       "      <th>0</th>\n",
       "      <td>8949.0</td>\n",
       "      <td>0.920</td>\n",
       "      <td>Male</td>\n",
       "      <td>Has relevant experience</td>\n",
       "      <td>no_enrollment</td>\n",
       "      <td>Graduate</td>\n",
       "      <td>STEM</td>\n",
       "      <td>&gt;20</td>\n",
       "      <td>1</td>\n",
       "      <td>36.0</td>\n",
       "      <td>1.0</td>\n",
       "      <td>train</td>\n",
       "    </tr>\n",
       "    <tr>\n",
       "      <th>1</th>\n",
       "      <td>29725.0</td>\n",
       "      <td>0.776</td>\n",
       "      <td>Male</td>\n",
       "      <td>No relevant experience</td>\n",
       "      <td>no_enrollment</td>\n",
       "      <td>Graduate</td>\n",
       "      <td>STEM</td>\n",
       "      <td>15</td>\n",
       "      <td>&gt;4</td>\n",
       "      <td>47.0</td>\n",
       "      <td>0.0</td>\n",
       "      <td>train</td>\n",
       "    </tr>\n",
       "  </tbody>\n",
       "</table>\n",
       "</div>"
      ],
      "text/plain": [
       "   enrollee_id  city_development_index gender      relevant_experience  \\\n",
       "0       8949.0                   0.920   Male  Has relevant experience   \n",
       "1      29725.0                   0.776   Male   No relevant experience   \n",
       "\n",
       "  enrolled_university education_level major_discipline experience  \\\n",
       "0       no_enrollment        Graduate             STEM        >20   \n",
       "1       no_enrollment        Graduate             STEM         15   \n",
       "\n",
       "  last_new_job  training_hours  target   Xgrp  \n",
       "0            1            36.0     1.0  train  \n",
       "1           >4            47.0     0.0  train  "
      ]
     },
     "execution_count": 5,
     "metadata": {},
     "output_type": "execute_result"
    }
   ],
   "source": [
    "df = df.drop(columns = [\"city\", \"company_size\", \"company_type\"])\n",
    "df.head(2)"
   ]
  },
  {
   "cell_type": "code",
   "execution_count": 16,
   "id": "9a70982d",
   "metadata": {},
   "outputs": [],
   "source": [
    "df_cat = df.select_dtypes(exclude = \"number\")\n",
    "df_cat.isna().sum()"
   ]
  },
  {
   "cell_type": "code",
   "execution_count": 17,
   "id": "50cedc38",
   "metadata": {},
   "outputs": [],
   "source": [
    "df_num = df.select_dtypes(include = \"number\")\n",
    "df_num.isna().sum()"
   ]
  },
  {
   "cell_type": "code",
   "execution_count": 10,
   "id": "a3953c42",
   "metadata": {},
   "outputs": [],
   "source": [
    "df = df.dropna()"
   ]
  },
  {
   "cell_type": "code",
   "execution_count": 12,
   "id": "5a130bb1",
   "metadata": {
    "collapsed": true
   },
   "outputs": [
    {
     "data": {
      "text/plain": [
       "array(['>20', '15', '13', '7', '5', '16', '4', '11', '<1', '18', '19',\n",
       "       '12', '10', '9', '2', '6', '14', '3', '8', '20', '17', '1'],\n",
       "      dtype=object)"
      ]
     },
     "execution_count": 12,
     "metadata": {},
     "output_type": "execute_result"
    }
   ],
   "source": [
    "df[\"experience\"].unique()"
   ]
  },
  {
   "cell_type": "code",
   "execution_count": 13,
   "id": "85b40176",
   "metadata": {},
   "outputs": [
    {
     "data": {
      "text/plain": [
       "array(['1', '>4', '4', '3', '2', 'never'], dtype=object)"
      ]
     },
     "execution_count": 13,
     "metadata": {},
     "output_type": "execute_result"
    }
   ],
   "source": [
    "df[\"last_new_job\"].unique()"
   ]
  },
  {
   "cell_type": "code",
   "execution_count": 14,
   "id": "61963f17",
   "metadata": {},
   "outputs": [],
   "source": [
    "df = df.loc[~df[\"experience\"].isin([\">20\", \"<1\"]), ]\n",
    "df = df.loc[~df[\"last_new_job\"].isin([\">4\", \"never\"]), ]\n",
    "df = df.reset_index(drop = True)"
   ]
  },
  {
   "cell_type": "code",
   "execution_count": 15,
   "id": "d531d640",
   "metadata": {},
   "outputs": [
    {
     "data": {
      "text/plain": [
       "7522"
      ]
     },
     "execution_count": 15,
     "metadata": {},
     "output_type": "execute_result"
    }
   ],
   "source": [
    "len(df)"
   ]
  },
  {
   "cell_type": "code",
   "execution_count": 18,
   "id": "2e7cefde",
   "metadata": {},
   "outputs": [],
   "source": [
    "df_base = df.copy()"
   ]
  },
  {
   "cell_type": "markdown",
   "id": "0acb7aff",
   "metadata": {},
   "source": [
    "### Q1."
   ]
  },
  {
   "cell_type": "code",
   "execution_count": 19,
   "id": "0c7c6b8d",
   "metadata": {},
   "outputs": [
    {
     "data": {
      "text/html": [
       "<div>\n",
       "<style scoped>\n",
       "    .dataframe tbody tr th:only-of-type {\n",
       "        vertical-align: middle;\n",
       "    }\n",
       "\n",
       "    .dataframe tbody tr th {\n",
       "        vertical-align: top;\n",
       "    }\n",
       "\n",
       "    .dataframe thead th {\n",
       "        text-align: right;\n",
       "    }\n",
       "</style>\n",
       "<table border=\"1\" class=\"dataframe\">\n",
       "  <thead>\n",
       "    <tr style=\"text-align: right;\">\n",
       "      <th></th>\n",
       "      <th>relevant_experience</th>\n",
       "      <th>target</th>\n",
       "    </tr>\n",
       "  </thead>\n",
       "  <tbody>\n",
       "    <tr>\n",
       "      <th>0</th>\n",
       "      <td>Has relevant experience</td>\n",
       "      <td>1.0</td>\n",
       "    </tr>\n",
       "    <tr>\n",
       "      <th>1</th>\n",
       "      <td>Has relevant experience</td>\n",
       "      <td>0.0</td>\n",
       "    </tr>\n",
       "  </tbody>\n",
       "</table>\n",
       "</div>"
      ],
      "text/plain": [
       "       relevant_experience  target\n",
       "0  Has relevant experience     1.0\n",
       "1  Has relevant experience     0.0"
      ]
     },
     "execution_count": 19,
     "metadata": {},
     "output_type": "execute_result"
    }
   ],
   "source": [
    "df_q1 = df_base[[\"relevant_experience\", \"target\"]].copy()\n",
    "df_q1.head(2)"
   ]
  },
  {
   "cell_type": "code",
   "execution_count": 20,
   "id": "dfd97c7f",
   "metadata": {},
   "outputs": [
    {
     "data": {
      "text/plain": [
       "array(['Has relevant experience', 'No relevant experience'], dtype=object)"
      ]
     },
     "execution_count": 20,
     "metadata": {},
     "output_type": "execute_result"
    }
   ],
   "source": [
    "df_q1[\"relevant_experience\"].unique()"
   ]
  },
  {
   "cell_type": "code",
   "execution_count": 21,
   "id": "37ca4584",
   "metadata": {},
   "outputs": [],
   "source": [
    "df_q1_has = df_q1.loc[df_q1[\"relevant_experience\"] == \"Has relevant experience\", ]\n",
    "# df_q1_has = df_q1.loc[df_q1[\"relevant_experience\"] != \"Has relevant experience\", ]\n",
    "df_q1_no  = df_q1.loc[df_q1[\"relevant_experience\"] == \"No relevant experience\", ]"
   ]
  },
  {
   "cell_type": "code",
   "execution_count": 25,
   "id": "fb3c70a1",
   "metadata": {},
   "outputs": [
    {
     "data": {
      "text/plain": [
       "0.21591095105581928"
      ]
     },
     "execution_count": 25,
     "metadata": {},
     "output_type": "execute_result"
    }
   ],
   "source": [
    "# df_q1_has[\"target\"].value_counts()\n",
    "# df_q1_has[\"target\"].value_counts(normalize = True)\n",
    "df_q1_has[\"target\"].value_counts(normalize = True)[1]"
   ]
  },
  {
   "cell_type": "code",
   "execution_count": 26,
   "id": "2a384424",
   "metadata": {},
   "outputs": [
    {
     "data": {
      "text/plain": [
       "0.38287331917905165"
      ]
     },
     "execution_count": 26,
     "metadata": {},
     "output_type": "execute_result"
    }
   ],
   "source": [
    "df_q1_no[\"target\"].value_counts(normalize = True)[1]"
   ]
  },
  {
   "cell_type": "code",
   "execution_count": 28,
   "id": "c8c2435e",
   "metadata": {},
   "outputs": [
    {
     "data": {
      "text/plain": [
       "1.77"
      ]
     },
     "execution_count": 28,
     "metadata": {},
     "output_type": "execute_result"
    }
   ],
   "source": [
    "val_A = df_q1_no[\"target\"].value_counts(normalize = True)[1]\n",
    "val_B = df_q1_has[\"target\"].value_counts(normalize = True)[1]\n",
    "round(val_A / val_B, 2)"
   ]
  },
  {
   "cell_type": "code",
   "execution_count": 29,
   "id": "ef7d275a",
   "metadata": {},
   "outputs": [
    {
     "data": {
      "text/plain": [
       "relevant_experience\n",
       "Has relevant experience    0.215911\n",
       "No relevant experience     0.382873\n",
       "Name: target, dtype: float64"
      ]
     },
     "execution_count": 29,
     "metadata": {},
     "output_type": "execute_result"
    }
   ],
   "source": [
    "df.groupby(\"relevant_experience\")[\"target\"].mean()"
   ]
  },
  {
   "cell_type": "markdown",
   "id": "b0639aa7",
   "metadata": {},
   "source": [
    "### Q2."
   ]
  },
  {
   "cell_type": "code",
   "execution_count": 31,
   "id": "21abb085",
   "metadata": {
    "collapsed": true
   },
   "outputs": [
    {
     "data": {
      "text/html": [
       "<div>\n",
       "<style scoped>\n",
       "    .dataframe tbody tr th:only-of-type {\n",
       "        vertical-align: middle;\n",
       "    }\n",
       "\n",
       "    .dataframe tbody tr th {\n",
       "        vertical-align: top;\n",
       "    }\n",
       "\n",
       "    .dataframe thead th {\n",
       "        text-align: right;\n",
       "    }\n",
       "</style>\n",
       "<table border=\"1\" class=\"dataframe\">\n",
       "  <thead>\n",
       "    <tr style=\"text-align: right;\">\n",
       "      <th></th>\n",
       "      <th>gender</th>\n",
       "      <th>relevant_experience</th>\n",
       "      <th>enrolled_university</th>\n",
       "      <th>education_level</th>\n",
       "      <th>major_discipline</th>\n",
       "    </tr>\n",
       "  </thead>\n",
       "  <tbody>\n",
       "    <tr>\n",
       "      <th>0</th>\n",
       "      <td>Male</td>\n",
       "      <td>Has relevant experience</td>\n",
       "      <td>no_enrollment</td>\n",
       "      <td>Graduate</td>\n",
       "      <td>STEM</td>\n",
       "    </tr>\n",
       "  </tbody>\n",
       "</table>\n",
       "</div>"
      ],
      "text/plain": [
       "  gender      relevant_experience enrolled_university education_level  \\\n",
       "0   Male  Has relevant experience       no_enrollment        Graduate   \n",
       "\n",
       "  major_discipline  \n",
       "0             STEM  "
      ]
     },
     "execution_count": 31,
     "metadata": {},
     "output_type": "execute_result"
    }
   ],
   "source": [
    "df_q2_cat = df_base.loc[:, \"gender\":\"major_discipline\"]\n",
    "df_q2_cat.head(1)"
   ]
  },
  {
   "cell_type": "code",
   "execution_count": 32,
   "id": "6c278cbd",
   "metadata": {
    "collapsed": true
   },
   "outputs": [
    {
     "data": {
      "text/html": [
       "<div>\n",
       "<style scoped>\n",
       "    .dataframe tbody tr th:only-of-type {\n",
       "        vertical-align: middle;\n",
       "    }\n",
       "\n",
       "    .dataframe tbody tr th {\n",
       "        vertical-align: top;\n",
       "    }\n",
       "\n",
       "    .dataframe thead th {\n",
       "        text-align: right;\n",
       "    }\n",
       "</style>\n",
       "<table border=\"1\" class=\"dataframe\">\n",
       "  <thead>\n",
       "    <tr style=\"text-align: right;\">\n",
       "      <th></th>\n",
       "      <th>gender_Female</th>\n",
       "      <th>gender_Male</th>\n",
       "      <th>gender_Other</th>\n",
       "      <th>relevant_experience_Has relevant experience</th>\n",
       "      <th>relevant_experience_No relevant experience</th>\n",
       "      <th>enrolled_university_Full time course</th>\n",
       "      <th>enrolled_university_Part time course</th>\n",
       "      <th>enrolled_university_no_enrollment</th>\n",
       "      <th>education_level_Graduate</th>\n",
       "      <th>education_level_Masters</th>\n",
       "      <th>education_level_Phd</th>\n",
       "      <th>major_discipline_Arts</th>\n",
       "      <th>major_discipline_Business Degree</th>\n",
       "      <th>major_discipline_Humanities</th>\n",
       "      <th>major_discipline_No Major</th>\n",
       "      <th>major_discipline_Other</th>\n",
       "      <th>major_discipline_STEM</th>\n",
       "    </tr>\n",
       "  </thead>\n",
       "  <tbody>\n",
       "    <tr>\n",
       "      <th>0</th>\n",
       "      <td>0</td>\n",
       "      <td>1</td>\n",
       "      <td>0</td>\n",
       "      <td>1</td>\n",
       "      <td>0</td>\n",
       "      <td>0</td>\n",
       "      <td>0</td>\n",
       "      <td>1</td>\n",
       "      <td>1</td>\n",
       "      <td>0</td>\n",
       "      <td>0</td>\n",
       "      <td>0</td>\n",
       "      <td>0</td>\n",
       "      <td>0</td>\n",
       "      <td>0</td>\n",
       "      <td>0</td>\n",
       "      <td>1</td>\n",
       "    </tr>\n",
       "  </tbody>\n",
       "</table>\n",
       "</div>"
      ],
      "text/plain": [
       "   gender_Female  gender_Male  gender_Other  \\\n",
       "0              0            1             0   \n",
       "\n",
       "   relevant_experience_Has relevant experience  \\\n",
       "0                                            1   \n",
       "\n",
       "   relevant_experience_No relevant experience  \\\n",
       "0                                           0   \n",
       "\n",
       "   enrolled_university_Full time course  enrolled_university_Part time course  \\\n",
       "0                                     0                                     0   \n",
       "\n",
       "   enrolled_university_no_enrollment  education_level_Graduate  \\\n",
       "0                                  1                         1   \n",
       "\n",
       "   education_level_Masters  education_level_Phd  major_discipline_Arts  \\\n",
       "0                        0                    0                      0   \n",
       "\n",
       "   major_discipline_Business Degree  major_discipline_Humanities  \\\n",
       "0                                 0                            0   \n",
       "\n",
       "   major_discipline_No Major  major_discipline_Other  major_discipline_STEM  \n",
       "0                          0                       0                      1  "
      ]
     },
     "execution_count": 32,
     "metadata": {},
     "output_type": "execute_result"
    }
   ],
   "source": [
    "df_q2_dum = pd.get_dummies(df_q2_cat)\n",
    "df_q2_dum.head(1)"
   ]
  },
  {
   "cell_type": "code",
   "execution_count": 34,
   "id": "b439a7b5",
   "metadata": {
    "collapsed": true
   },
   "outputs": [
    {
     "data": {
      "text/html": [
       "<div>\n",
       "<style scoped>\n",
       "    .dataframe tbody tr th:only-of-type {\n",
       "        vertical-align: middle;\n",
       "    }\n",
       "\n",
       "    .dataframe tbody tr th {\n",
       "        vertical-align: top;\n",
       "    }\n",
       "\n",
       "    .dataframe thead th {\n",
       "        text-align: right;\n",
       "    }\n",
       "</style>\n",
       "<table border=\"1\" class=\"dataframe\">\n",
       "  <thead>\n",
       "    <tr style=\"text-align: right;\">\n",
       "      <th></th>\n",
       "      <th>gender_Female</th>\n",
       "      <th>gender_Male</th>\n",
       "      <th>relevant_experience_Has relevant experience</th>\n",
       "      <th>enrolled_university_Full time course</th>\n",
       "      <th>enrolled_university_Part time course</th>\n",
       "      <th>education_level_Graduate</th>\n",
       "      <th>education_level_Masters</th>\n",
       "      <th>major_discipline_Arts</th>\n",
       "      <th>major_discipline_Business Degree</th>\n",
       "      <th>major_discipline_Humanities</th>\n",
       "      <th>major_discipline_No Major</th>\n",
       "      <th>major_discipline_Other</th>\n",
       "    </tr>\n",
       "  </thead>\n",
       "  <tbody>\n",
       "    <tr>\n",
       "      <th>0</th>\n",
       "      <td>0</td>\n",
       "      <td>1</td>\n",
       "      <td>1</td>\n",
       "      <td>0</td>\n",
       "      <td>0</td>\n",
       "      <td>1</td>\n",
       "      <td>0</td>\n",
       "      <td>0</td>\n",
       "      <td>0</td>\n",
       "      <td>0</td>\n",
       "      <td>0</td>\n",
       "      <td>0</td>\n",
       "    </tr>\n",
       "  </tbody>\n",
       "</table>\n",
       "</div>"
      ],
      "text/plain": [
       "   gender_Female  gender_Male  relevant_experience_Has relevant experience  \\\n",
       "0              0            1                                            1   \n",
       "\n",
       "   enrolled_university_Full time course  enrolled_university_Part time course  \\\n",
       "0                                     0                                     0   \n",
       "\n",
       "   education_level_Graduate  education_level_Masters  major_discipline_Arts  \\\n",
       "0                         1                        0                      0   \n",
       "\n",
       "   major_discipline_Business Degree  major_discipline_Humanities  \\\n",
       "0                                 0                            0   \n",
       "\n",
       "   major_discipline_No Major  major_discipline_Other  \n",
       "0                          0                       0  "
      ]
     },
     "execution_count": 34,
     "metadata": {},
     "output_type": "execute_result"
    }
   ],
   "source": [
    "target_drop = [\"gender_Other\", \"relevant_experience_No relevant experience\", \n",
    "               \"enrolled_university_no_enrollment\", \"education_level_Phd\",\n",
    "               \"major_discipline_STEM\"]\n",
    "df_q2_dum = df_q2_dum.drop(columns = target_drop)\n",
    "df_q2_dum.head(1)"
   ]
  },
  {
   "cell_type": "code",
   "execution_count": 36,
   "id": "7cd4400e",
   "metadata": {},
   "outputs": [],
   "source": [
    "target_cols = [\"target\", \"Xgrp\", \"city_development_index\", \n",
    "               \"experience\", \"last_new_job\", \"training_hours\"]\n",
    "df_q2 = pd.concat([df_base[target_cols], df_q2_dum], axis = 1)\n",
    "df_q2 = df_q2.reset_index(drop = True)"
   ]
  },
  {
   "cell_type": "code",
   "execution_count": 37,
   "id": "08c07493",
   "metadata": {},
   "outputs": [
    {
     "data": {
      "text/html": [
       "<div>\n",
       "<style scoped>\n",
       "    .dataframe tbody tr th:only-of-type {\n",
       "        vertical-align: middle;\n",
       "    }\n",
       "\n",
       "    .dataframe tbody tr th {\n",
       "        vertical-align: top;\n",
       "    }\n",
       "\n",
       "    .dataframe thead th {\n",
       "        text-align: right;\n",
       "    }\n",
       "</style>\n",
       "<table border=\"1\" class=\"dataframe\">\n",
       "  <thead>\n",
       "    <tr style=\"text-align: right;\">\n",
       "      <th></th>\n",
       "      <th>target</th>\n",
       "      <th>Xgrp</th>\n",
       "      <th>city_development_index</th>\n",
       "      <th>experience</th>\n",
       "      <th>last_new_job</th>\n",
       "      <th>training_hours</th>\n",
       "      <th>gender_Female</th>\n",
       "      <th>gender_Male</th>\n",
       "      <th>relevant_experience_Has relevant experience</th>\n",
       "      <th>enrolled_university_Full time course</th>\n",
       "      <th>enrolled_university_Part time course</th>\n",
       "      <th>education_level_Graduate</th>\n",
       "      <th>education_level_Masters</th>\n",
       "      <th>major_discipline_Arts</th>\n",
       "      <th>major_discipline_Business Degree</th>\n",
       "      <th>major_discipline_Humanities</th>\n",
       "      <th>major_discipline_No Major</th>\n",
       "      <th>major_discipline_Other</th>\n",
       "    </tr>\n",
       "  </thead>\n",
       "  <tbody>\n",
       "    <tr>\n",
       "      <th>0</th>\n",
       "      <td>1.0</td>\n",
       "      <td>train</td>\n",
       "      <td>0.92</td>\n",
       "      <td>7</td>\n",
       "      <td>1</td>\n",
       "      <td>46.0</td>\n",
       "      <td>0</td>\n",
       "      <td>1</td>\n",
       "      <td>1</td>\n",
       "      <td>0</td>\n",
       "      <td>0</td>\n",
       "      <td>1</td>\n",
       "      <td>0</td>\n",
       "      <td>0</td>\n",
       "      <td>0</td>\n",
       "      <td>0</td>\n",
       "      <td>0</td>\n",
       "      <td>0</td>\n",
       "    </tr>\n",
       "  </tbody>\n",
       "</table>\n",
       "</div>"
      ],
      "text/plain": [
       "   target   Xgrp  city_development_index experience last_new_job  \\\n",
       "0     1.0  train                    0.92          7            1   \n",
       "\n",
       "   training_hours  gender_Female  gender_Male  \\\n",
       "0            46.0              0            1   \n",
       "\n",
       "   relevant_experience_Has relevant experience  \\\n",
       "0                                            1   \n",
       "\n",
       "   enrolled_university_Full time course  enrolled_university_Part time course  \\\n",
       "0                                     0                                     0   \n",
       "\n",
       "   education_level_Graduate  education_level_Masters  major_discipline_Arts  \\\n",
       "0                         1                        0                      0   \n",
       "\n",
       "   major_discipline_Business Degree  major_discipline_Humanities  \\\n",
       "0                                 0                            0   \n",
       "\n",
       "   major_discipline_No Major  major_discipline_Other  \n",
       "0                          0                       0  "
      ]
     },
     "execution_count": 37,
     "metadata": {},
     "output_type": "execute_result"
    }
   ],
   "source": [
    "df_q2.head(1)"
   ]
  },
  {
   "cell_type": "code",
   "execution_count": 38,
   "id": "4aaa4c4a",
   "metadata": {},
   "outputs": [],
   "source": [
    "df_job2 = df_q2.copy()"
   ]
  },
  {
   "cell_type": "code",
   "execution_count": 42,
   "id": "404f21f3",
   "metadata": {},
   "outputs": [],
   "source": [
    "model_lr = LogisticRegression(C = 100000, max_iter = 1000,\n",
    "                              solver = \"liblinear\", random_state = 123)\n",
    "model_lr.fit(X = df_job2.drop(columns = [\"target\", \"Xgrp\"]),\n",
    "             y = df_job2[\"target\"])"
   ]
  },
  {
   "cell_type": "code",
   "execution_count": 44,
   "id": "9eeef096",
   "metadata": {},
   "outputs": [],
   "source": [
    "model_lr.coef_"
   ]
  },
  {
   "cell_type": "code",
   "execution_count": 51,
   "id": "d92e6005",
   "metadata": {},
   "outputs": [],
   "source": [
    "pd.Series(model_lr.coef_[0],\n",
    "          index = df_job2.columns[2:]).reset_index()"
   ]
  },
  {
   "cell_type": "code",
   "execution_count": 52,
   "id": "57181188",
   "metadata": {},
   "outputs": [
    {
     "data": {
      "text/html": [
       "<div>\n",
       "<style scoped>\n",
       "    .dataframe tbody tr th:only-of-type {\n",
       "        vertical-align: middle;\n",
       "    }\n",
       "\n",
       "    .dataframe tbody tr th {\n",
       "        vertical-align: top;\n",
       "    }\n",
       "\n",
       "    .dataframe thead th {\n",
       "        text-align: right;\n",
       "    }\n",
       "</style>\n",
       "<table border=\"1\" class=\"dataframe\">\n",
       "  <thead>\n",
       "    <tr style=\"text-align: right;\">\n",
       "      <th></th>\n",
       "      <th>city_development_index</th>\n",
       "      <th>experience</th>\n",
       "      <th>last_new_job</th>\n",
       "      <th>training_hours</th>\n",
       "      <th>gender_Female</th>\n",
       "      <th>gender_Male</th>\n",
       "      <th>relevant_experience_Has relevant experience</th>\n",
       "      <th>enrolled_university_Full time course</th>\n",
       "      <th>enrolled_university_Part time course</th>\n",
       "      <th>education_level_Graduate</th>\n",
       "      <th>education_level_Masters</th>\n",
       "      <th>major_discipline_Arts</th>\n",
       "      <th>major_discipline_Business Degree</th>\n",
       "      <th>major_discipline_Humanities</th>\n",
       "      <th>major_discipline_No Major</th>\n",
       "      <th>major_discipline_Other</th>\n",
       "    </tr>\n",
       "  </thead>\n",
       "  <tbody>\n",
       "    <tr>\n",
       "      <th>0</th>\n",
       "      <td>-6.117324</td>\n",
       "      <td>-0.028502</td>\n",
       "      <td>0.095653</td>\n",
       "      <td>-0.000926</td>\n",
       "      <td>-0.162976</td>\n",
       "      <td>-0.136724</td>\n",
       "      <td>-0.760567</td>\n",
       "      <td>0.51411</td>\n",
       "      <td>-0.281497</td>\n",
       "      <td>0.323116</td>\n",
       "      <td>0.016742</td>\n",
       "      <td>0.261665</td>\n",
       "      <td>0.107607</td>\n",
       "      <td>0.243479</td>\n",
       "      <td>0.3979</td>\n",
       "      <td>-0.439388</td>\n",
       "    </tr>\n",
       "  </tbody>\n",
       "</table>\n",
       "</div>"
      ],
      "text/plain": [
       "   city_development_index  experience  last_new_job  training_hours  \\\n",
       "0               -6.117324   -0.028502      0.095653       -0.000926   \n",
       "\n",
       "   gender_Female  gender_Male  relevant_experience_Has relevant experience  \\\n",
       "0      -0.162976    -0.136724                                    -0.760567   \n",
       "\n",
       "   enrolled_university_Full time course  enrolled_university_Part time course  \\\n",
       "0                               0.51411                             -0.281497   \n",
       "\n",
       "   education_level_Graduate  education_level_Masters  major_discipline_Arts  \\\n",
       "0                  0.323116                 0.016742               0.261665   \n",
       "\n",
       "   major_discipline_Business Degree  major_discipline_Humanities  \\\n",
       "0                          0.107607                     0.243479   \n",
       "\n",
       "   major_discipline_No Major  major_discipline_Other  \n",
       "0                     0.3979               -0.439388  "
      ]
     },
     "execution_count": 52,
     "metadata": {},
     "output_type": "execute_result"
    }
   ],
   "source": [
    "pd.DataFrame(model_lr.coef_, columns = df_job2.columns[2:])"
   ]
  },
  {
   "cell_type": "code",
   "execution_count": 58,
   "id": "8101b070",
   "metadata": {},
   "outputs": [
    {
     "data": {
      "text/plain": [
       "1.67"
      ]
     },
     "execution_count": 58,
     "metadata": {},
     "output_type": "execute_result"
    }
   ],
   "source": [
    "# model_lr.intercept_ # 신경xxxx\n",
    "np.exp(model_lr.coef_).round(2).max()"
   ]
  },
  {
   "cell_type": "markdown",
   "id": "6c06435c",
   "metadata": {},
   "source": [
    "### Q3."
   ]
  },
  {
   "cell_type": "code",
   "execution_count": 59,
   "id": "cf2f52d5",
   "metadata": {},
   "outputs": [
    {
     "data": {
      "text/plain": [
       "array(['train', 'test'], dtype=object)"
      ]
     },
     "execution_count": 59,
     "metadata": {},
     "output_type": "execute_result"
    }
   ],
   "source": [
    "df_job2[\"Xgrp\"].unique()"
   ]
  },
  {
   "cell_type": "code",
   "execution_count": 60,
   "id": "decd6bba",
   "metadata": {},
   "outputs": [],
   "source": [
    "df_train = df_job2.loc[df_job2[\"Xgrp\"] == \"train\", ].drop(columns = \"Xgrp\")\n",
    "df_test  = df_job2.loc[df_job2[\"Xgrp\"] == \"test\" , ].drop(columns = \"Xgrp\")"
   ]
  },
  {
   "cell_type": "code",
   "execution_count": 61,
   "id": "f760de04",
   "metadata": {},
   "outputs": [
    {
     "data": {
      "text/plain": [
       "(4706, 2816)"
      ]
     },
     "execution_count": 61,
     "metadata": {},
     "output_type": "execute_result"
    }
   ],
   "source": [
    "len(df_train), len(df_test)"
   ]
  },
  {
   "cell_type": "code",
   "execution_count": 63,
   "id": "7bcf4901",
   "metadata": {},
   "outputs": [],
   "source": [
    "model_knn = KNeighborsClassifier(n_neighbors = 5)\n",
    "model_knn.fit(X = df_train.drop(columns = \"target\"),\n",
    "              y = df_train[\"target\"])\n",
    "pred = model_knn.predict(df_test.drop(columns = \"target\"))"
   ]
  },
  {
   "cell_type": "code",
   "execution_count": 64,
   "id": "2d00e0c9",
   "metadata": {},
   "outputs": [
    {
     "data": {
      "text/plain": [
       "array([0., 0., 0., 0.])"
      ]
     },
     "execution_count": 64,
     "metadata": {},
     "output_type": "execute_result"
    }
   ],
   "source": [
    "pred[:4]"
   ]
  },
  {
   "cell_type": "code",
   "execution_count": 65,
   "id": "28036e82",
   "metadata": {},
   "outputs": [],
   "source": [
    "from sklearn.metrics import accuracy_score"
   ]
  },
  {
   "cell_type": "code",
   "execution_count": 66,
   "id": "82ccf441",
   "metadata": {},
   "outputs": [
    {
     "data": {
      "text/plain": [
       "0.71"
      ]
     },
     "execution_count": 66,
     "metadata": {},
     "output_type": "execute_result"
    }
   ],
   "source": [
    "round(accuracy_score(y_true = df_test[\"target\"],\n",
    "                     y_pred = pred), 2)"
   ]
  },
  {
   "cell_type": "code",
   "execution_count": 68,
   "id": "a9560ec1",
   "metadata": {
    "collapsed": true
   },
   "outputs": [
    {
     "data": {
      "text/html": [
       "<div>\n",
       "<style scoped>\n",
       "    .dataframe tbody tr th:only-of-type {\n",
       "        vertical-align: middle;\n",
       "    }\n",
       "\n",
       "    .dataframe tbody tr th {\n",
       "        vertical-align: top;\n",
       "    }\n",
       "\n",
       "    .dataframe thead th {\n",
       "        text-align: right;\n",
       "    }\n",
       "</style>\n",
       "<table border=\"1\" class=\"dataframe\">\n",
       "  <thead>\n",
       "    <tr style=\"text-align: right;\">\n",
       "      <th>col_0</th>\n",
       "      <th>0.0</th>\n",
       "      <th>1.0</th>\n",
       "    </tr>\n",
       "    <tr>\n",
       "      <th>target</th>\n",
       "      <th></th>\n",
       "      <th></th>\n",
       "    </tr>\n",
       "  </thead>\n",
       "  <tbody>\n",
       "    <tr>\n",
       "      <th>0.0</th>\n",
       "      <td>1899</td>\n",
       "      <td>193</td>\n",
       "    </tr>\n",
       "    <tr>\n",
       "      <th>1.0</th>\n",
       "      <td>616</td>\n",
       "      <td>108</td>\n",
       "    </tr>\n",
       "  </tbody>\n",
       "</table>\n",
       "</div>"
      ],
      "text/plain": [
       "col_0    0.0  1.0\n",
       "target           \n",
       "0.0     1899  193\n",
       "1.0      616  108"
      ]
     },
     "execution_count": 68,
     "metadata": {},
     "output_type": "execute_result"
    }
   ],
   "source": [
    "df_cross = pd.crosstab(df_test[\"target\"], pred)\n",
    "df_cross"
   ]
  },
  {
   "cell_type": "code",
   "execution_count": 73,
   "id": "3f9debed",
   "metadata": {},
   "outputs": [
    {
     "data": {
      "text/plain": [
       "0.71"
      ]
     },
     "execution_count": 73,
     "metadata": {},
     "output_type": "execute_result"
    }
   ],
   "source": [
    "arr_cross = df_cross.values\n",
    "round(arr_cross.diagonal().sum() / arr_cross.sum(), 2)"
   ]
  },
  {
   "cell_type": "code",
   "execution_count": null,
   "id": "e32d4d94",
   "metadata": {},
   "outputs": [],
   "source": []
  },
  {
   "cell_type": "code",
   "execution_count": null,
   "id": "22d54817",
   "metadata": {},
   "outputs": [],
   "source": []
  },
  {
   "cell_type": "code",
   "execution_count": null,
   "id": "c087de5c",
   "metadata": {},
   "outputs": [],
   "source": []
  }
 ],
 "metadata": {
  "kernelspec": {
   "display_name": "Python 3 (ipykernel)",
   "language": "python",
   "name": "python3"
  },
  "language_info": {
   "codemirror_mode": {
    "name": "ipython",
    "version": 3
   },
   "file_extension": ".py",
   "mimetype": "text/x-python",
   "name": "python",
   "nbconvert_exporter": "python",
   "pygments_lexer": "ipython3",
   "version": "3.9.12"
  }
 },
 "nbformat": 4,
 "nbformat_minor": 5
}
